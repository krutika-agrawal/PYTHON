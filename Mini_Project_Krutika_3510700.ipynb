{
 "cells": [
  {
   "cell_type": "code",
   "execution_count": 5,
   "id": "4bcb4b99",
   "metadata": {},
   "outputs": [],
   "source": [
    "from datetime import datetime\n",
    "import time"
   ]
  },
  {
   "cell_type": "code",
   "execution_count": 6,
   "id": "30f1a334",
   "metadata": {},
   "outputs": [],
   "source": [
    "sd_101= \"14-3-2020\"   #START DATE OF SHIPMENT:101 AS A STRING\n",
    "dd_101= \"25-3-2020\"   #END DATE OF SHIPMENT:101 AS A STRING\n",
    "start_date_101= datetime.strptime(sd_101,'%d-%m-%Y').date()   #converting string to date\n",
    "del_date_101= datetime.strptime(dd_101,'%d-%m-%Y').date()     #converting string to date\n",
    "\n",
    "\n",
    "sd_102= \"18-6-2020\"   #START DATE OF SHIPMENT:102 AS A STRING\n",
    "dd_102= \"9-7-2020\"    #END DATE OF SHIPMENT:102 AS A STRING\n",
    "start_date_102= datetime.strptime(sd_102,'%d-%m-%Y').date()    #converting string to date\n",
    "del_date_102= datetime.strptime(dd_102,'%d-%m-%Y').date()      #converting string to date\n",
    "\n",
    "sd_103= \"1-12-2020\"   #START DATE OF SHIPMENT:103 AS A STRING\n",
    "del_date_103= \"Null\"  #END DATE OF SHIPMENT:101 AS A STRING\n",
    "start_date_103= datetime.strptime(sd_103,'%d-%m-%Y').date()    #converting string to date\n",
    "\n",
    "\n",
    "sd_104= \"23-6-2020\"   #START DATE OF SHIPMENT:104 AS A STRING\n",
    "dd_104= \"25-6-2020\"   #END DATE OF SHIPMENT:104 AS A STRING\n",
    "start_date_104= datetime.strptime(sd_104,'%d-%m-%Y').date()    #converting string to date\n",
    "del_date_104= datetime.strptime(dd_104,'%d-%m-%Y').date()      #converting string to date\n",
    "\n",
    "sd_105= \"29-8-2020\"  #START DATE OF SHIPMENT:105 AS A STRING\n",
    "dd_105= \"10-9-2020\"  #END DATE OF SHIPMENT:105 AS A STRING\n",
    "start_date_105= datetime.strptime(sd_105,'%d-%m-%Y').date()   #converting string to date\n",
    "del_date_105= datetime.strptime(dd_105,'%d-%m-%Y').date()     #converting string to date\n",
    "\n",
    "sd_106=\"28-6-2020\"   #START DATE OF SHIPMENT:106 AS A STRING\n",
    "del_date_106= \"Null\"  #END DATE OF SHIPMENT:106 AS A STRING\n",
    "start_date_106= datetime.strptime(sd_106,'%d-%m-%Y').date()    #converting string to date\n",
    "\n",
    "\n"
   ]
  },
  {
   "cell_type": "markdown",
   "id": "1909b263",
   "metadata": {},
   "source": [
    "# 1.Create a dictionary of list to store the information of shipment given in the table"
   ]
  },
  {
   "cell_type": "code",
   "execution_count": 7,
   "id": "1e56111d",
   "metadata": {},
   "outputs": [],
   "source": [
    "shipment= {\n",
    "    101:{'Sender': 1,'Receiver': 3,'Start_date': start_date_101,'Delivery_date': del_date_101,'Sender_location': 'Area1','Receiver_location': 'Area6', 'Delivery_status': 'Delivered', 'Shipping_cost': 198},\n",
    "    102:{'Sender': 4,'Receiver': 1,'Start_date': start_date_102,'Delivery_date': del_date_102,'Sender_location': 'Area2','Receiver_location':'Area4', 'Delivery_status': 'Delivered', 'Shipping_cost': 275},\n",
    "    103:{'Sender': 2,'Receiver': 3,'Start_date': start_date_103,'Delivery_date': del_date_103,'Sender_location': 'Area5','Receiver_location': 'Area1', 'Delivery_status':'In-Transit', 'Shipping_cost': 200},\n",
    "    104:{'Sender': 1,'Receiver': 5,'Start_date': start_date_104,'Delivery_date': del_date_104,'Sender_location': 'Area1','Receiver_location': 'Area4', 'Delivery_status': 'Delivered', 'Shipping_cost': 314},\n",
    "    105:{'Sender': 3,'Receiver': 4,'Start_date': start_date_105,'Delivery_date': del_date_105,'Sender_location': 'Area5','Receiver_location': 'Area3', 'Delivery_status': 'Delivered', 'Shipping_cost': 275},\n",
    "    106:{'Sender': 5,'Receiver': 2,'Start_date': start_date_106,'Delivery_date': del_date_106,'Sender_location': 'Area3','Receiver_location': 'Area1', 'Delivery_status':'In-Transit', 'Shipping_cost': 270}\n",
    "\n",
    "}"
   ]
  },
  {
   "cell_type": "code",
   "execution_count": 4,
   "id": "15a37893",
   "metadata": {},
   "outputs": [
    {
     "name": "stdout",
     "output_type": "stream",
     "text": [
      "{101: {'Sender': 1, 'Receiver': 3, 'Start_date': datetime.date(2020, 3, 14), 'Delivery_date': datetime.date(2020, 3, 25), 'Sender_location': 'Area1', 'Receiver_location': 'Area6', 'Delivery_status': 'Delivered', 'Shipping_cost': 198}, 102: {'Sender': 4, 'Receiver': 1, 'Start_date': datetime.date(2020, 6, 18), 'Delivery_date': datetime.date(2020, 7, 9), 'Sender_location': 'Area2', 'Receiver_location': 'Area4', 'Delivery_status': 'Delivered', 'Shipping_cost': 275}, 103: {'Sender': 2, 'Receiver': 3, 'Start_date': datetime.date(2020, 12, 1), 'Delivery_date': 'Null', 'Sender_location': 'Area5', 'Receiver_location': 'Area1', 'Delivery_status': 'In-Transit', 'Shipping_cost': 200}, 104: {'Sender': 1, 'Receiver': 5, 'Start_date': datetime.date(2020, 6, 23), 'Delivery_date': datetime.date(2020, 6, 25), 'Sender_location': 'Area1', 'Receiver_location': 'Area4', 'Delivery_status': 'Delivered', 'Shipping_cost': 314}, 105: {'Sender': 3, 'Receiver': 4, 'Start_date': datetime.date(2020, 8, 29), 'Delivery_date': datetime.date(2020, 9, 10), 'Sender_location': 'Area5', 'Receiver_location': 'Area3', 'Delivery_status': 'Delivered', 'Shipping_cost': 275}, 106: {'Sender': 5, 'Receiver': 2, 'Start_date': datetime.date(2020, 6, 28), 'Delivery_date': 'Null', 'Sender_location': 'Area3', 'Receiver_location': 'Area1', 'Delivery_status': 'In-Transit', 'Shipping_cost': 270}}\n"
     ]
    }
   ],
   "source": [
    "print(shipment)"
   ]
  },
  {
   "cell_type": "markdown",
   "id": "003c591d",
   "metadata": {},
   "source": [
    "# Q2. Create a Dictionary of to store the information of clients given in the table."
   ]
  },
  {
   "cell_type": "code",
   "execution_count": 1,
   "id": "ce30305b",
   "metadata": {},
   "outputs": [],
   "source": [
    "client_dict={1:'Philip',2:'Omega III',3:'Ramya',4:'Romesh',5:'John'}"
   ]
  },
  {
   "cell_type": "code",
   "execution_count": 2,
   "id": "9bb19ab4",
   "metadata": {},
   "outputs": [
    {
     "name": "stdout",
     "output_type": "stream",
     "text": [
      "{1: 'Philip', 2: 'Omega III', 3: 'Ramya', 4: 'Romesh', 5: 'John'}\n"
     ]
    }
   ],
   "source": [
    "print(client_dict)\n",
    "\n",
    "\n",
    "#print(client_dict[2]) #prints value of key-2"
   ]
  },
  {
   "cell_type": "markdown",
   "id": "1ef34f0b",
   "metadata": {},
   "source": [
    "# Q3. Write a code to replace client’s id with their respective name in shipment dictionary using a loop and dictionary comprehension"
   ]
  },
  {
   "cell_type": "code",
   "execution_count": 8,
   "id": "efa38871",
   "metadata": {},
   "outputs": [
    {
     "name": "stdout",
     "output_type": "stream",
     "text": [
      "{101: {'Sender': 1, 'Receiver': 3, 'Start_date': datetime.date(2020, 3, 14), 'Delivery_date': datetime.date(2020, 3, 25), 'Sender_location': 'Area1', 'Receiver_location': 'Area6', 'Delivery_status': 'Delivered', 'Shipping_cost': 198}, 102: {'Sender': 4, 'Receiver': 1, 'Start_date': datetime.date(2020, 6, 18), 'Delivery_date': datetime.date(2020, 7, 9), 'Sender_location': 'Area2', 'Receiver_location': 'Area4', 'Delivery_status': 'Delivered', 'Shipping_cost': 275}, 103: {'Sender': 2, 'Receiver': 3, 'Start_date': datetime.date(2020, 12, 1), 'Delivery_date': 'Null', 'Sender_location': 'Area5', 'Receiver_location': 'Area1', 'Delivery_status': 'In-Transit', 'Shipping_cost': 200}, 104: {'Sender': 1, 'Receiver': 5, 'Start_date': datetime.date(2020, 6, 23), 'Delivery_date': datetime.date(2020, 6, 25), 'Sender_location': 'Area1', 'Receiver_location': 'Area4', 'Delivery_status': 'Delivered', 'Shipping_cost': 314}, 105: {'Sender': 3, 'Receiver': 4, 'Start_date': datetime.date(2020, 8, 29), 'Delivery_date': datetime.date(2020, 9, 10), 'Sender_location': 'Area5', 'Receiver_location': 'Area3', 'Delivery_status': 'Delivered', 'Shipping_cost': 275}, 106: {'Sender': 5, 'Receiver': 2, 'Start_date': datetime.date(2020, 6, 28), 'Delivery_date': 'Null', 'Sender_location': 'Area3', 'Receiver_location': 'Area1', 'Delivery_status': 'In-Transit', 'Shipping_cost': 270}}\n"
     ]
    }
   ],
   "source": [
    "print(shipment)"
   ]
  },
  {
   "cell_type": "code",
   "execution_count": 7,
   "id": "16875b00",
   "metadata": {},
   "outputs": [],
   "source": [
    "updated_shipment={\n",
    "    i:{a:client_dict[b] if a in ('Sender','Receiver') else b    for a,b in j.items()} for i,j in shipment.items()\n",
    "}\n",
    "\n",
    "\n",
    "#1. In outer for-loop we are inside the main/outer dictionary\n",
    "#2. In inner for-loop we are inside the inner/nested dictionary\n",
    "#3. We mention ('Sender','Receiver') in Conditional Statement because we want to change their values in Key name, Sender and Receiver, If Key name is sender we pass string as sender(CASE SENSITIVE)\n",
    "#4. value (v) of inner dictionary is the key of client_dict \n",
    "#5. Hence k:client[v] gives us the updated output\n"
   ]
  },
  {
   "cell_type": "code",
   "execution_count": 8,
   "id": "1e1573ed",
   "metadata": {},
   "outputs": [
    {
     "name": "stdout",
     "output_type": "stream",
     "text": [
      "{101: {'Sender': 'Philip', 'Receiver': 'Ramya', 'Start_date': datetime.date(2020, 3, 14), 'Delivery_date': datetime.date(2020, 3, 25), 'Sender_location': 'Area1', 'Receiver_location': 'Area6', 'Delivery_status': 'Delivered', 'Shipping_cost': 198}, 102: {'Sender': 'Romesh', 'Receiver': 'Philip', 'Start_date': datetime.date(2020, 6, 18), 'Delivery_date': datetime.date(2020, 7, 9), 'Sender_location': 'Area2', 'Receiver_location': 'Area4', 'Delivery_status': 'Delivered', 'Shipping_cost': 275}, 103: {'Sender': 'Omega III', 'Receiver': 'Ramya', 'Start_date': datetime.date(2020, 12, 1), 'Delivery_date': 'Null', 'Sender_location': 'Area5', 'Receiver_location': 'Area1', 'Delivery_status': 'In-Transit', 'Shipping_cost': 200}, 104: {'Sender': 'Philip', 'Receiver': 'John', 'Start_date': datetime.date(2020, 6, 23), 'Delivery_date': datetime.date(2020, 6, 25), 'Sender_location': 'Area1', 'Receiver_location': 'Area4', 'Delivery_status': 'Delivered', 'Shipping_cost': 314}, 105: {'Sender': 'Ramya', 'Receiver': 'Romesh', 'Start_date': datetime.date(2020, 8, 29), 'Delivery_date': datetime.date(2020, 9, 10), 'Sender_location': 'Area5', 'Receiver_location': 'Area3', 'Delivery_status': 'Delivered', 'Shipping_cost': 275}, 106: {'Sender': 'John', 'Receiver': 'Omega III', 'Start_date': datetime.date(2020, 6, 28), 'Delivery_date': 'Null', 'Sender_location': 'Area3', 'Receiver_location': 'Area1', 'Delivery_status': 'In-Transit', 'Shipping_cost': 270}}\n"
     ]
    }
   ],
   "source": [
    "print(updated_shipment)"
   ]
  },
  {
   "cell_type": "markdown",
   "id": "0fd002e9",
   "metadata": {},
   "source": [
    "# Q4. Print all shipment details that are sent by Phillip"
   ]
  },
  {
   "cell_type": "code",
   "execution_count": 9,
   "id": "b3c1a0fc",
   "metadata": {},
   "outputs": [
    {
     "name": "stdout",
     "output_type": "stream",
     "text": [
      "Shipment no: 101 is sent by Philip\n",
      "\n",
      "Shipment details: {'Sender': 'Philip', 'Receiver': 'Ramya', 'Start_date': datetime.date(2020, 3, 14), 'Delivery_date': datetime.date(2020, 3, 25), 'Sender_location': 'Area1', 'Receiver_location': 'Area6', 'Delivery_status': 'Delivered', 'Shipping_cost': 198}\n",
      "\n",
      "Shipment no: 104 is sent by Philip\n",
      "\n",
      "Shipment details: {'Sender': 'Philip', 'Receiver': 'John', 'Start_date': datetime.date(2020, 6, 23), 'Delivery_date': datetime.date(2020, 6, 25), 'Sender_location': 'Area1', 'Receiver_location': 'Area4', 'Delivery_status': 'Delivered', 'Shipping_cost': 314}\n",
      "\n"
     ]
    }
   ],
   "source": [
    "for i,j in updated_shipment.items(): #INSIDE OUTER DICTIONARY\n",
    "    for a,b in j.items():            #INSIDE INNER DICTIONARY \n",
    "        if(a=='Sender' and b=='Philip'): #if key=Sender and value=Philip\n",
    "            print('Shipment no:',i,'is sent by Philip')\n",
    "            print()\n",
    "            print('Shipment details:',j)\n",
    "            print()\n",
    "#ALTERNATE METHOD IN BELOW CELL       "
   ]
  },
  {
   "cell_type": "code",
   "execution_count": 10,
   "id": "655aa3e7",
   "metadata": {},
   "outputs": [
    {
     "name": "stdout",
     "output_type": "stream",
     "text": [
      "Shipment no: 101 is sent by Philip\n",
      "\n",
      "Shipment details: {'Sender': 'Philip', 'Receiver': 'Ramya', 'Start_date': datetime.date(2020, 3, 14), 'Delivery_date': datetime.date(2020, 3, 25), 'Sender_location': 'Area1', 'Receiver_location': 'Area6', 'Delivery_status': 'Delivered', 'Shipping_cost': 198}\n",
      "\n",
      "Shipment no: 104 is sent by Philip\n",
      "\n",
      "Shipment details: {'Sender': 'Philip', 'Receiver': 'John', 'Start_date': datetime.date(2020, 6, 23), 'Delivery_date': datetime.date(2020, 6, 25), 'Sender_location': 'Area1', 'Receiver_location': 'Area4', 'Delivery_status': 'Delivered', 'Shipping_cost': 314}\n",
      "\n"
     ]
    }
   ],
   "source": [
    "for i,j in updated_shipment.items(): \n",
    "    if  j['Sender'] =='Philip':       #dict['key'] gives value\n",
    "            print('Shipment no:',i,'is sent by Philip')\n",
    "            print()\n",
    "            print('Shipment details:',j)\n",
    "            print()"
   ]
  },
  {
   "cell_type": "code",
   "execution_count": null,
   "id": "7ac14d5a",
   "metadata": {},
   "outputs": [],
   "source": []
  },
  {
   "cell_type": "markdown",
   "id": "88b1856c",
   "metadata": {},
   "source": [
    "# Q5. Print all shipment details that are received by Ramya"
   ]
  },
  {
   "cell_type": "code",
   "execution_count": 11,
   "id": "d3982c27",
   "metadata": {},
   "outputs": [
    {
     "name": "stdout",
     "output_type": "stream",
     "text": [
      "Shipments no: 101 is received by Ramya. Please find below shipment details\n",
      "{'Sender': 'Philip', 'Receiver': 'Ramya', 'Start_date': datetime.date(2020, 3, 14), 'Delivery_date': datetime.date(2020, 3, 25), 'Sender_location': 'Area1', 'Receiver_location': 'Area6', 'Delivery_status': 'Delivered', 'Shipping_cost': 198}\n",
      "\n",
      "Shipments no: 103 is received by Ramya. Please find below shipment details\n",
      "{'Sender': 'Omega III', 'Receiver': 'Ramya', 'Start_date': datetime.date(2020, 12, 1), 'Delivery_date': 'Null', 'Sender_location': 'Area5', 'Receiver_location': 'Area1', 'Delivery_status': 'In-Transit', 'Shipping_cost': 200}\n",
      "\n"
     ]
    }
   ],
   "source": [
    "for i,j in updated_shipment.items(): #INSIDE OUTER DICTIONARY\n",
    "    for a,b in j.items():            #INSIDE INNER DICTIONARY \n",
    "        if(a=='Receiver' and b=='Ramya'): #if key=Receiver and value=Ramya\n",
    "            print(\"Shipments no:\",i, \"is received by Ramya. Please find below shipment details\")\n",
    "            print(j)\n",
    "            print()\n",
    "#ALTERNATE METHOD IN BELOW CELL       "
   ]
  },
  {
   "cell_type": "code",
   "execution_count": 12,
   "id": "252d82f6",
   "metadata": {},
   "outputs": [
    {
     "name": "stdout",
     "output_type": "stream",
     "text": [
      "101 {'Sender': 'Philip', 'Receiver': 'Ramya', 'Start_date': datetime.date(2020, 3, 14), 'Delivery_date': datetime.date(2020, 3, 25), 'Sender_location': 'Area1', 'Receiver_location': 'Area6', 'Delivery_status': 'Delivered', 'Shipping_cost': 198}\n",
      "\n",
      "103 {'Sender': 'Omega III', 'Receiver': 'Ramya', 'Start_date': datetime.date(2020, 12, 1), 'Delivery_date': 'Null', 'Sender_location': 'Area5', 'Receiver_location': 'Area1', 'Delivery_status': 'In-Transit', 'Shipping_cost': 200}\n",
      "\n"
     ]
    }
   ],
   "source": [
    "for i,j in updated_shipment.items(): \n",
    "    if  j['Receiver'] =='Ramya':       #dict['key'] gives value\n",
    "        print(i,j)\n",
    "        print()"
   ]
  },
  {
   "cell_type": "markdown",
   "id": "f19ecbd9",
   "metadata": {},
   "source": [
    "# Q6. Print all shipments which are in 'In-Transit' status"
   ]
  },
  {
   "cell_type": "code",
   "execution_count": 13,
   "id": "fc86a9ef",
   "metadata": {},
   "outputs": [
    {
     "name": "stdout",
     "output_type": "stream",
     "text": [
      "Shipment 103 is In-Transit. Please find below shipment details:\n",
      "{'Sender': 'Omega III', 'Receiver': 'Ramya', 'Start_date': datetime.date(2020, 12, 1), 'Delivery_date': 'Null', 'Sender_location': 'Area5', 'Receiver_location': 'Area1', 'Delivery_status': 'In-Transit', 'Shipping_cost': 200}\n",
      "\n",
      "Shipment 106 is In-Transit. Please find below shipment details:\n",
      "{'Sender': 'John', 'Receiver': 'Omega III', 'Start_date': datetime.date(2020, 6, 28), 'Delivery_date': 'Null', 'Sender_location': 'Area3', 'Receiver_location': 'Area1', 'Delivery_status': 'In-Transit', 'Shipping_cost': 270}\n",
      "\n"
     ]
    }
   ],
   "source": [
    "for i,j in updated_shipment.items(): #INSIDE OUTER DICTIONARY\n",
    "    for a,b in j.items():            #INSIDE INNER DICTIONARY \n",
    "        if(a=='Delivery_status' and b=='In-Transit'): #if key=Delivery_status and value=In-Transit\n",
    "            print(\"Shipment\",i,\"is In-Transit. Please find below shipment details:\")\n",
    "            print(j)\n",
    "            print()\n",
    "#ALTERNATE METHOD IN BELOW CELL       "
   ]
  },
  {
   "cell_type": "code",
   "execution_count": 14,
   "id": "2d350b7e",
   "metadata": {},
   "outputs": [
    {
     "name": "stdout",
     "output_type": "stream",
     "text": [
      "Shipment 103 is In-Transit. Please find below shipment details:\n",
      "{'Sender': 'Omega III', 'Receiver': 'Ramya', 'Start_date': datetime.date(2020, 12, 1), 'Delivery_date': 'Null', 'Sender_location': 'Area5', 'Receiver_location': 'Area1', 'Delivery_status': 'In-Transit', 'Shipping_cost': 200}\n",
      "\n",
      "Shipment 106 is In-Transit. Please find below shipment details:\n",
      "{'Sender': 'John', 'Receiver': 'Omega III', 'Start_date': datetime.date(2020, 6, 28), 'Delivery_date': 'Null', 'Sender_location': 'Area3', 'Receiver_location': 'Area1', 'Delivery_status': 'In-Transit', 'Shipping_cost': 270}\n",
      "\n"
     ]
    }
   ],
   "source": [
    "for i,j in updated_shipment.items(): \n",
    "    if  j['Delivery_status'] =='In-Transit':       #dict['key'] gives value\n",
    "        print(\"Shipment\",i,\"is In-Transit. Please find below shipment details:\")\n",
    "        print(j)\n",
    "        print()"
   ]
  },
  {
   "cell_type": "code",
   "execution_count": null,
   "id": "70a95ee6",
   "metadata": {},
   "outputs": [],
   "source": []
  },
  {
   "cell_type": "markdown",
   "id": "0028b501",
   "metadata": {},
   "source": [
    "# Q7. Print all shipments which are delivered within 7 days of courier Start date"
   ]
  },
  {
   "cell_type": "code",
   "execution_count": 15,
   "id": "4bb96d09",
   "metadata": {},
   "outputs": [
    {
     "name": "stdout",
     "output_type": "stream",
     "text": [
      "Shipment no. 104  is delivered within 7 days of courier Start date\n",
      "Please find the shipment details below:\n",
      "{'Sender': 'Philip', 'Receiver': 'John', 'Start_date': datetime.date(2020, 6, 23), 'Delivery_date': datetime.date(2020, 6, 25), 'Sender_location': 'Area1', 'Receiver_location': 'Area4', 'Delivery_status': 'Delivered', 'Shipping_cost': 314}\n",
      "\n"
     ]
    }
   ],
   "source": [
    "for i,j in updated_shipment.items():\n",
    "    if j['Delivery_date']=='Null':\n",
    "        continue\n",
    "    if (j['Delivery_date']-j['Start_date']).days <7:\n",
    "            print(\"Shipment no.\",i,\" is delivered within 7 days of courier Start date\")\n",
    "            print(\"Please find the shipment details below:\")\n",
    "            print(j)\n",
    "            print()\n",
    "\n",
    "  \n",
    "    "
   ]
  },
  {
   "cell_type": "markdown",
   "id": "88f9b54e",
   "metadata": {},
   "source": [
    "# Q8. Print all shipments which are delivered after 15 days of courier start date or not yet been delivered."
   ]
  },
  {
   "cell_type": "code",
   "execution_count": 16,
   "id": "99d7a736",
   "metadata": {
    "scrolled": true
   },
   "outputs": [
    {
     "name": "stdout",
     "output_type": "stream",
     "text": [
      "Shipment no: 102 was delivered after 15 days of courier start date\n",
      "Please find the shipment details below:\n",
      "{'Sender': 'Romesh', 'Receiver': 'Philip', 'Start_date': datetime.date(2020, 6, 18), 'Delivery_date': datetime.date(2020, 7, 9), 'Sender_location': 'Area2', 'Receiver_location': 'Area4', 'Delivery_status': 'Delivered', 'Shipping_cost': 275}\n",
      "\n",
      "Shipment no. 103 is not yet delivered\n",
      "Please find the shipment details below:\n",
      "{'Sender': 'Omega III', 'Receiver': 'Ramya', 'Start_date': datetime.date(2020, 12, 1), 'Delivery_date': 'Null', 'Sender_location': 'Area5', 'Receiver_location': 'Area1', 'Delivery_status': 'In-Transit', 'Shipping_cost': 200}\n",
      "\n",
      "Shipment no. 106 is not yet delivered\n",
      "Please find the shipment details below:\n",
      "{'Sender': 'John', 'Receiver': 'Omega III', 'Start_date': datetime.date(2020, 6, 28), 'Delivery_date': 'Null', 'Sender_location': 'Area3', 'Receiver_location': 'Area1', 'Delivery_status': 'In-Transit', 'Shipping_cost': 270}\n",
      "\n"
     ]
    }
   ],
   "source": [
    "for i,j in updated_shipment.items():\n",
    "    if j['Delivery_date']=='Null':\n",
    "        print(\"Shipment no.\",i,\"is not yet delivered\")\n",
    "        print(\"Please find the shipment details below:\")\n",
    "        print(j)\n",
    "        print()\n",
    "    elif (j['Delivery_date']-j['Start_date']).days >15:\n",
    "            print('Shipment no:',i,\"was delivered after 15 days of courier start date\")\n",
    "            print(\"Please find the shipment details below:\")\n",
    "            print(j)\n",
    "            print()"
   ]
  },
  {
   "cell_type": "markdown",
   "id": "e91f5e72",
   "metadata": {},
   "source": [
    "# Q 9. Write a function find_all_routes to display all possible routes from senders location to receivers location given in the dictionary for each shipment.¶"
   ]
  },
  {
   "cell_type": "code",
   "execution_count": 17,
   "id": "97f9d629",
   "metadata": {},
   "outputs": [],
   "source": [
    "area_dict={'Area1':1,'Area2':2,'Area3':3,'Area4':4,'Area5':5,'Area6':6}"
   ]
  },
  {
   "cell_type": "code",
   "execution_count": 18,
   "id": "56e58af8",
   "metadata": {},
   "outputs": [
    {
     "name": "stdout",
     "output_type": "stream",
     "text": [
      "{101: {'Sender': 'Philip', 'Receiver': 'Ramya', 'Start_date': datetime.date(2020, 3, 14), 'Delivery_date': datetime.date(2020, 3, 25), 'Sender_location': 1, 'Receiver_location': 6, 'Delivery_status': 'Delivered', 'Shipping_cost': 198}, 102: {'Sender': 'Romesh', 'Receiver': 'Philip', 'Start_date': datetime.date(2020, 6, 18), 'Delivery_date': datetime.date(2020, 7, 9), 'Sender_location': 2, 'Receiver_location': 4, 'Delivery_status': 'Delivered', 'Shipping_cost': 275}, 103: {'Sender': 'Omega III', 'Receiver': 'Ramya', 'Start_date': datetime.date(2020, 12, 1), 'Delivery_date': 'Null', 'Sender_location': 5, 'Receiver_location': 1, 'Delivery_status': 'In-Transit', 'Shipping_cost': 200}, 104: {'Sender': 'Philip', 'Receiver': 'John', 'Start_date': datetime.date(2020, 6, 23), 'Delivery_date': datetime.date(2020, 6, 25), 'Sender_location': 1, 'Receiver_location': 4, 'Delivery_status': 'Delivered', 'Shipping_cost': 314}, 105: {'Sender': 'Ramya', 'Receiver': 'Romesh', 'Start_date': datetime.date(2020, 8, 29), 'Delivery_date': datetime.date(2020, 9, 10), 'Sender_location': 5, 'Receiver_location': 3, 'Delivery_status': 'Delivered', 'Shipping_cost': 275}, 106: {'Sender': 'John', 'Receiver': 'Omega III', 'Start_date': datetime.date(2020, 6, 28), 'Delivery_date': 'Null', 'Sender_location': 3, 'Receiver_location': 1, 'Delivery_status': 'In-Transit', 'Shipping_cost': 270}}\n"
     ]
    }
   ],
   "source": [
    "new_shipment={\n",
    "    i:{a:area_dict[b] if a in ('Sender_location','Receiver_location') else b    for a,b in j.items()} for i,j in updated_shipment.items()\n",
    "}\n",
    "\n",
    "print(new_shipment)"
   ]
  },
  {
   "cell_type": "code",
   "execution_count": 19,
   "id": "d94ee924",
   "metadata": {},
   "outputs": [],
   "source": [
    "matrix=[[0,1,0,0,0,1],[1,0,1,1,0,0],[0,1,0,1,0,0],[0,1,1,0,1,0],[0,0,0,1,0,0],[1,0,0,0,0,0]]  #By referring the diagram\n",
    "visited=[False for i in range(6)] #Initially visited=False because we haven't reached any location/area\n",
    "path=[]    #empty list to append new possible nodes"
   ]
  },
  {
   "cell_type": "code",
   "execution_count": 20,
   "id": "b1ba8f80",
   "metadata": {},
   "outputs": [],
   "source": [
    "def find_all_routes(matrix,start,dest,visited,path): #We pass the matrix, start location,destination, location_visited and path as the parameters\n",
    "    visited[start]=True #True because we have now visited the location at position start \n",
    "    path.append(start+1) #We append the location number if 0 is the position then location number is 0+1 i.e 1\n",
    "    if start==dest:      #We have reached the destination\n",
    "        print(path)      #Hence we will print the list path\n",
    "    else:\n",
    "        for i in range(6):  #As we have 6 locations, we will run the loop 6 times to find all routes \n",
    "            if matrix[start][i]==1 and (visited[i]==False): #We find the next route available , we cannot repeat the visited location, hence visited[i]=False\n",
    "                find_all_routes(matrix,i,dest,visited,path) #Recurring call to function unless start==dest\n",
    "                \n",
    "    path.pop()        #DEAD END- if the node doesn't leads us further to the destination\n",
    "    visited[start]= False #DEAD END- we initialize the location to False i.e not visited\n",
    "    \n"
   ]
  },
  {
   "cell_type": "code",
   "execution_count": 21,
   "id": "94af4e29",
   "metadata": {},
   "outputs": [],
   "source": [
    "def show_all_possible_routes(shipment_details):  \n",
    "    for i,j in shipment_details.items():         #Accessing outer dictionary\n",
    "        print('Shipment ID:',i)                  #printing key of outer dictionary\n",
    "        for a,b in j.items():                    #accessing inner dictionary \n",
    "            if a==\"Sender_location\":             #We need Sender's locations (start)\n",
    "                s=b                              #We assign the value of Sender location to variable s\n",
    "                print(\"Sender's Area is:\",s)     #print\n",
    "            if a==\"Receiver_location\":           #We need receiver's location to find the route (dest)\n",
    "                r=b                              #We assign the value of receiver location to variable s \n",
    "                print(\"Receiver's Area is:\",r)\n",
    "                print(\"All possible routes:\")\n",
    "                find_all_routes(matrix,s-1,r-1,visited,path)  #Calling the function(s-1) and (r-1) for the position of s and r respectively\n",
    "                print('-------------------------------------')\n",
    "            \n",
    "            \n",
    "      \n",
    "        "
   ]
  },
  {
   "cell_type": "code",
   "execution_count": 22,
   "id": "eda76a5e",
   "metadata": {},
   "outputs": [
    {
     "name": "stdout",
     "output_type": "stream",
     "text": [
      "Shipment ID: 101\n",
      "Sender's Area is: 1\n",
      "Receiver's Area is: 6\n",
      "All possible routes:\n",
      "[1, 6]\n",
      "-------------------------------------\n",
      "Shipment ID: 102\n",
      "Sender's Area is: 2\n",
      "Receiver's Area is: 4\n",
      "All possible routes:\n",
      "[2, 3, 4]\n",
      "[2, 4]\n",
      "-------------------------------------\n",
      "Shipment ID: 103\n",
      "Sender's Area is: 5\n",
      "Receiver's Area is: 1\n",
      "All possible routes:\n",
      "[5, 4, 2, 1]\n",
      "[5, 4, 3, 2, 1]\n",
      "-------------------------------------\n",
      "Shipment ID: 104\n",
      "Sender's Area is: 1\n",
      "Receiver's Area is: 4\n",
      "All possible routes:\n",
      "[1, 2, 3, 4]\n",
      "[1, 2, 4]\n",
      "-------------------------------------\n",
      "Shipment ID: 105\n",
      "Sender's Area is: 5\n",
      "Receiver's Area is: 3\n",
      "All possible routes:\n",
      "[5, 4, 2, 3]\n",
      "[5, 4, 3]\n",
      "-------------------------------------\n",
      "Shipment ID: 106\n",
      "Sender's Area is: 3\n",
      "Receiver's Area is: 1\n",
      "All possible routes:\n",
      "[3, 2, 1]\n",
      "[3, 4, 2, 1]\n",
      "-------------------------------------\n"
     ]
    }
   ],
   "source": [
    "show_all_possible_routes(new_shipment)"
   ]
  },
  {
   "cell_type": "code",
   "execution_count": null,
   "id": "383e8248",
   "metadata": {},
   "outputs": [],
   "source": []
  },
  {
   "cell_type": "code",
   "execution_count": null,
   "id": "de1aa070",
   "metadata": {},
   "outputs": [],
   "source": []
  }
 ],
 "metadata": {
  "kernelspec": {
   "display_name": "Python 3 (ipykernel)",
   "language": "python",
   "name": "python3"
  },
  "language_info": {
   "codemirror_mode": {
    "name": "ipython",
    "version": 3
   },
   "file_extension": ".py",
   "mimetype": "text/x-python",
   "name": "python",
   "nbconvert_exporter": "python",
   "pygments_lexer": "ipython3",
   "version": "3.9.12"
  }
 },
 "nbformat": 4,
 "nbformat_minor": 5
}
